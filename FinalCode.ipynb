{
 "cells": [
  {
   "cell_type": "code",
   "execution_count": 1,
   "metadata": {},
   "outputs": [],
   "source": [
    "from datetime import datetime as dt\n",
    "\n",
    "start = dt.now()\n"
   ]
  },
  {
   "cell_type": "code",
   "execution_count": 2,
   "metadata": {},
   "outputs": [],
   "source": [
    "import pandas as pd\n",
    "import matplotlib.pyplot as plt\n",
    "from statsmodels.tsa.stattools import adfuller\n",
    "from statsmodels.graphics.tsaplots import plot_acf\n",
    "from statsmodels.graphics.tsaplots import plot_pacf\n",
    "from statsmodels.tsa.arima.model import ARIMA\n",
    "from sklearn.metrics import mean_absolute_percentage_error\n",
    "import pandas as pd\n",
    "import numpy as np\n",
    "import matplotlib.pyplot as plt\n",
    "from sklearn.preprocessing import MinMaxScaler\n",
    "from keras.preprocessing.sequence import TimeseriesGenerator\n",
    "from keras.models import Sequential\n",
    "from keras.layers import Dense, LSTM, Dropout, BatchNormalization, Bidirectional\n",
    "from keras.optimizers import RMSprop\n",
    "from keras.callbacks import EarlyStopping\n",
    "%matplotlib inline"
   ]
  },
  {
   "cell_type": "code",
   "execution_count": 3,
   "metadata": {},
   "outputs": [
    {
     "data": {
      "text/html": [
       "<div>\n",
       "<style scoped>\n",
       "    .dataframe tbody tr th:only-of-type {\n",
       "        vertical-align: middle;\n",
       "    }\n",
       "\n",
       "    .dataframe tbody tr th {\n",
       "        vertical-align: top;\n",
       "    }\n",
       "\n",
       "    .dataframe thead th {\n",
       "        text-align: right;\n",
       "    }\n",
       "</style>\n",
       "<table border=\"1\" class=\"dataframe\">\n",
       "  <thead>\n",
       "    <tr style=\"text-align: right;\">\n",
       "      <th></th>\n",
       "      <th>Province/State</th>\n",
       "      <th>Country/Region</th>\n",
       "      <th>Lat</th>\n",
       "      <th>Long</th>\n",
       "      <th>1/22/20</th>\n",
       "      <th>1/23/20</th>\n",
       "      <th>1/24/20</th>\n",
       "      <th>1/25/20</th>\n",
       "      <th>1/26/20</th>\n",
       "      <th>1/27/20</th>\n",
       "      <th>...</th>\n",
       "      <th>2/28/23</th>\n",
       "      <th>3/1/23</th>\n",
       "      <th>3/2/23</th>\n",
       "      <th>3/3/23</th>\n",
       "      <th>3/4/23</th>\n",
       "      <th>3/5/23</th>\n",
       "      <th>3/6/23</th>\n",
       "      <th>3/7/23</th>\n",
       "      <th>3/8/23</th>\n",
       "      <th>3/9/23</th>\n",
       "    </tr>\n",
       "  </thead>\n",
       "  <tbody>\n",
       "    <tr>\n",
       "      <th>0</th>\n",
       "      <td>NaN</td>\n",
       "      <td>Afghanistan</td>\n",
       "      <td>33.93911</td>\n",
       "      <td>67.709953</td>\n",
       "      <td>0</td>\n",
       "      <td>0</td>\n",
       "      <td>0</td>\n",
       "      <td>0</td>\n",
       "      <td>0</td>\n",
       "      <td>0</td>\n",
       "      <td>...</td>\n",
       "      <td>209322</td>\n",
       "      <td>209340</td>\n",
       "      <td>209358</td>\n",
       "      <td>209362</td>\n",
       "      <td>209369</td>\n",
       "      <td>209390</td>\n",
       "      <td>209406</td>\n",
       "      <td>209436</td>\n",
       "      <td>209451</td>\n",
       "      <td>209451</td>\n",
       "    </tr>\n",
       "    <tr>\n",
       "      <th>1</th>\n",
       "      <td>NaN</td>\n",
       "      <td>Albania</td>\n",
       "      <td>41.15330</td>\n",
       "      <td>20.168300</td>\n",
       "      <td>0</td>\n",
       "      <td>0</td>\n",
       "      <td>0</td>\n",
       "      <td>0</td>\n",
       "      <td>0</td>\n",
       "      <td>0</td>\n",
       "      <td>...</td>\n",
       "      <td>334391</td>\n",
       "      <td>334408</td>\n",
       "      <td>334408</td>\n",
       "      <td>334427</td>\n",
       "      <td>334427</td>\n",
       "      <td>334427</td>\n",
       "      <td>334427</td>\n",
       "      <td>334427</td>\n",
       "      <td>334443</td>\n",
       "      <td>334457</td>\n",
       "    </tr>\n",
       "    <tr>\n",
       "      <th>2</th>\n",
       "      <td>NaN</td>\n",
       "      <td>Algeria</td>\n",
       "      <td>28.03390</td>\n",
       "      <td>1.659600</td>\n",
       "      <td>0</td>\n",
       "      <td>0</td>\n",
       "      <td>0</td>\n",
       "      <td>0</td>\n",
       "      <td>0</td>\n",
       "      <td>0</td>\n",
       "      <td>...</td>\n",
       "      <td>271441</td>\n",
       "      <td>271448</td>\n",
       "      <td>271463</td>\n",
       "      <td>271469</td>\n",
       "      <td>271469</td>\n",
       "      <td>271477</td>\n",
       "      <td>271477</td>\n",
       "      <td>271490</td>\n",
       "      <td>271494</td>\n",
       "      <td>271496</td>\n",
       "    </tr>\n",
       "    <tr>\n",
       "      <th>3</th>\n",
       "      <td>NaN</td>\n",
       "      <td>Andorra</td>\n",
       "      <td>42.50630</td>\n",
       "      <td>1.521800</td>\n",
       "      <td>0</td>\n",
       "      <td>0</td>\n",
       "      <td>0</td>\n",
       "      <td>0</td>\n",
       "      <td>0</td>\n",
       "      <td>0</td>\n",
       "      <td>...</td>\n",
       "      <td>47866</td>\n",
       "      <td>47875</td>\n",
       "      <td>47875</td>\n",
       "      <td>47875</td>\n",
       "      <td>47875</td>\n",
       "      <td>47875</td>\n",
       "      <td>47875</td>\n",
       "      <td>47875</td>\n",
       "      <td>47890</td>\n",
       "      <td>47890</td>\n",
       "    </tr>\n",
       "    <tr>\n",
       "      <th>4</th>\n",
       "      <td>NaN</td>\n",
       "      <td>Angola</td>\n",
       "      <td>-11.20270</td>\n",
       "      <td>17.873900</td>\n",
       "      <td>0</td>\n",
       "      <td>0</td>\n",
       "      <td>0</td>\n",
       "      <td>0</td>\n",
       "      <td>0</td>\n",
       "      <td>0</td>\n",
       "      <td>...</td>\n",
       "      <td>105255</td>\n",
       "      <td>105277</td>\n",
       "      <td>105277</td>\n",
       "      <td>105277</td>\n",
       "      <td>105277</td>\n",
       "      <td>105277</td>\n",
       "      <td>105277</td>\n",
       "      <td>105277</td>\n",
       "      <td>105288</td>\n",
       "      <td>105288</td>\n",
       "    </tr>\n",
       "  </tbody>\n",
       "</table>\n",
       "<p>5 rows × 1147 columns</p>\n",
       "</div>"
      ],
      "text/plain": [
       "  Province/State Country/Region       Lat       Long  1/22/20  1/23/20  \\\n",
       "0            NaN    Afghanistan  33.93911  67.709953        0        0   \n",
       "1            NaN        Albania  41.15330  20.168300        0        0   \n",
       "2            NaN        Algeria  28.03390   1.659600        0        0   \n",
       "3            NaN        Andorra  42.50630   1.521800        0        0   \n",
       "4            NaN         Angola -11.20270  17.873900        0        0   \n",
       "\n",
       "   1/24/20  1/25/20  1/26/20  1/27/20  ...  2/28/23  3/1/23  3/2/23  3/3/23  \\\n",
       "0        0        0        0        0  ...   209322  209340  209358  209362   \n",
       "1        0        0        0        0  ...   334391  334408  334408  334427   \n",
       "2        0        0        0        0  ...   271441  271448  271463  271469   \n",
       "3        0        0        0        0  ...    47866   47875   47875   47875   \n",
       "4        0        0        0        0  ...   105255  105277  105277  105277   \n",
       "\n",
       "   3/4/23  3/5/23  3/6/23  3/7/23  3/8/23  3/9/23  \n",
       "0  209369  209390  209406  209436  209451  209451  \n",
       "1  334427  334427  334427  334427  334443  334457  \n",
       "2  271469  271477  271477  271490  271494  271496  \n",
       "3   47875   47875   47875   47875   47890   47890  \n",
       "4  105277  105277  105277  105277  105288  105288  \n",
       "\n",
       "[5 rows x 1147 columns]"
      ]
     },
     "execution_count": 3,
     "metadata": {},
     "output_type": "execute_result"
    }
   ],
   "source": [
    "df = pd.read_csv(\"time_series_covid19_confirmed_global.csv\")\n",
    "df.head()"
   ]
  },
  {
   "cell_type": "code",
   "execution_count": 4,
   "metadata": {},
   "outputs": [],
   "source": [
    "df.set_index('Country/Region', inplace=True)\n",
    "india_data = df.loc['India']\n",
    "india_data = india_data.drop(['Province/State', 'Lat', 'Long'])\n",
    "india_data = india_data.transpose()\n",
    "india_data.columns = [\"Total Confirmed\"]\n",
    "data = pd.DataFrame(india_data)\n",
    "data['India'] = pd.to_numeric(data['India'], errors='coerce')\n",
    "data = data.rename(columns={'India': 'Total Confirmed'})"
   ]
  },
  {
   "cell_type": "code",
   "execution_count": 5,
   "metadata": {},
   "outputs": [
    {
     "data": {
      "text/html": [
       "<div>\n",
       "<style scoped>\n",
       "    .dataframe tbody tr th:only-of-type {\n",
       "        vertical-align: middle;\n",
       "    }\n",
       "\n",
       "    .dataframe tbody tr th {\n",
       "        vertical-align: top;\n",
       "    }\n",
       "\n",
       "    .dataframe thead th {\n",
       "        text-align: right;\n",
       "    }\n",
       "</style>\n",
       "<table border=\"1\" class=\"dataframe\">\n",
       "  <thead>\n",
       "    <tr style=\"text-align: right;\">\n",
       "      <th></th>\n",
       "      <th>Total Confirmed</th>\n",
       "    </tr>\n",
       "  </thead>\n",
       "  <tbody>\n",
       "    <tr>\n",
       "      <th>1/22/20</th>\n",
       "      <td>0</td>\n",
       "    </tr>\n",
       "    <tr>\n",
       "      <th>1/23/20</th>\n",
       "      <td>0</td>\n",
       "    </tr>\n",
       "    <tr>\n",
       "      <th>1/24/20</th>\n",
       "      <td>0</td>\n",
       "    </tr>\n",
       "    <tr>\n",
       "      <th>1/25/20</th>\n",
       "      <td>0</td>\n",
       "    </tr>\n",
       "    <tr>\n",
       "      <th>1/26/20</th>\n",
       "      <td>0</td>\n",
       "    </tr>\n",
       "  </tbody>\n",
       "</table>\n",
       "</div>"
      ],
      "text/plain": [
       "         Total Confirmed\n",
       "1/22/20                0\n",
       "1/23/20                0\n",
       "1/24/20                0\n",
       "1/25/20                0\n",
       "1/26/20                0"
      ]
     },
     "execution_count": 5,
     "metadata": {},
     "output_type": "execute_result"
    }
   ],
   "source": [
    "data.head()"
   ]
  },
  {
   "cell_type": "code",
   "execution_count": 6,
   "metadata": {},
   "outputs": [
    {
     "name": "stdout",
     "output_type": "stream",
     "text": [
      "Index(['1/22/20', '1/23/20', '1/24/20', '1/25/20', '1/26/20', '1/27/20',\n",
      "       '1/28/20', '1/29/20', '1/30/20', '1/31/20',\n",
      "       ...\n",
      "       '2/28/23', '3/1/23', '3/2/23', '3/3/23', '3/4/23', '3/5/23', '3/6/23',\n",
      "       '3/7/23', '3/8/23', '3/9/23'],\n",
      "      dtype='object', length=1143)\n"
     ]
    }
   ],
   "source": [
    "print(data.index)"
   ]
  },
  {
   "cell_type": "code",
   "execution_count": 7,
   "metadata": {},
   "outputs": [
    {
     "data": {
      "image/png": "[encoded data removed]",
      "text/plain": [
       "<Figure size 1400x700 with 1 Axes>"
      ]
     },
     "metadata": {},
     "output_type": "display_data"
    }
   ],
   "source": [
    "sub_df = data[data.index >= \"2020-01-22\"]\n",
    "plt.figure(figsize=(14, 7))\n",
    "plt.plot(data.index, data['Total Confirmed'])\n",
    "plt.xlabel('Date')\n",
    "plt.ylabel('Total Confirmed')\n",
    "plt.xticks(rotation = \"vertical\")\n",
    "plt.title('Time Series Data')\n",
    "plt.show()"
   ]
  },
  {
   "cell_type": "code",
   "execution_count": 8,
   "metadata": {},
   "outputs": [
    {
     "name": "stdout",
     "output_type": "stream",
     "text": [
      "ADF Statistic: -1.268995\n",
      "p-value: 0.643235\n",
      "Critical Values:\n",
      "\t1%: -3.436\n",
      "\t5%: -2.864\n",
      "\t10%: -2.568\n"
     ]
    }
   ],
   "source": [
    "\n",
    "results = adfuller(data['Total Confirmed'])\n",
    "print('ADF Statistic: %f' % results[0])\n",
    "print('p-value: %f' % results[1])\n",
    "print('Critical Values:')\n",
    "for key, value in results[4].items():\n",
    "  print('\\t%s: %.3f' % (key, value))\n",
    "#Here we can see that the p-value is less than 0.05 this means our null hypothesis will be accepted and we will take this series as stationary"
   ]
  },
  {
   "cell_type": "code",
   "execution_count": 9,
   "metadata": {},
   "outputs": [
    {
     "data": {
      "text/plain": [
       "<Axes: >"
      ]
     },
     "execution_count": 9,
     "metadata": {},
     "output_type": "execute_result"
    },
    {
     "data": {
      "image/png": "[encoded data removed]",
      "text/plain": [
       "<Figure size 640x480 with 1 Axes>"
      ]
     },
     "metadata": {},
     "output_type": "display_data"
    }
   ],
   "source": [
    "data.diff().plot()"
   ]
  },
  {
   "cell_type": "code",
   "execution_count": 10,
   "metadata": {},
   "outputs": [
    {
     "data": {
      "text/plain": [
       "<Axes: >"
      ]
     },
     "execution_count": 10,
     "metadata": {},
     "output_type": "execute_result"
    },
    {
     "data": {
      "image/png": "[encoded data removed]",
      "text/plain": [
       "<Figure size 640x480 with 1 Axes>"
      ]
     },
     "metadata": {},
     "output_type": "display_data"
    }
   ],
   "source": [
    "data.diff().diff().plot() #d=2"
   ]
  },
  {
   "cell_type": "code",
   "execution_count": 11,
   "metadata": {},
   "outputs": [
    {
     "data": {
      "image/png": "[encoded data removed]",
      "text/plain": [
       "<Figure size 640x480 with 1 Axes>"
      ]
     },
     "execution_count": 11,
     "metadata": {},
     "output_type": "execute_result"
    },
    {
     "data": {
      "image/png": "[encoded data removed]",
      "text/plain": [
       "<Figure size 640x480 with 1 Axes>"
      ]
     },
     "metadata": {},
     "output_type": "display_data"
    }
   ],
   "source": [
    "plot_acf(data.diff().diff().dropna())#q=2"
   ]
  },
  {
   "cell_type": "code",
   "execution_count": 12,
   "metadata": {},
   "outputs": [
    {
     "data": {
      "image/png": "[encoded data removed]",
      "text/plain": [
       "<Figure size 640x480 with 1 Axes>"
      ]
     },
     "execution_count": 12,
     "metadata": {},
     "output_type": "execute_result"
    },
    {
     "data": {
      "image/png": "[encoded data removed]",
      "text/plain": [
       "<Figure size 640x480 with 1 Axes>"
      ]
     },
     "metadata": {},
     "output_type": "display_data"
    }
   ],
   "source": [
    "plot_pacf(data.diff().diff().dropna())#p=2"
   ]
  },
  {
   "cell_type": "code",
   "execution_count": 13,
   "metadata": {},
   "outputs": [],
   "source": [
    "len_training = int(len(data)*.8)\n",
    "df_train,df_test = data[:len_training], data[len_training:]"
   ]
  },
  {
   "cell_type": "code",
   "execution_count": 14,
   "metadata": {},
   "outputs": [
    {
     "data": {
      "text/plain": [
       "(914, 1)"
      ]
     },
     "execution_count": 14,
     "metadata": {},
     "output_type": "execute_result"
    }
   ],
   "source": [
    "df_train.shape"
   ]
  },
  {
   "cell_type": "code",
   "execution_count": 15,
   "metadata": {},
   "outputs": [
    {
     "data": {
      "text/plain": [
       "(229, 1)"
      ]
     },
     "execution_count": 15,
     "metadata": {},
     "output_type": "execute_result"
    }
   ],
   "source": [
    "df_test.shape"
   ]
  },
  {
   "cell_type": "code",
   "execution_count": 16,
   "metadata": {},
   "outputs": [],
   "source": [
    "predicted_list, error_list = [], []"
   ]
  },
  {
   "cell_type": "code",
   "execution_count": 17,
   "metadata": {},
   "outputs": [
    {
     "name": "stderr",
     "output_type": "stream",
     "text": [
      "c:\\Users\\Somit Jain\\AppData\\Local\\Programs\\Python\\Python311\\Lib\\site-packages\\statsmodels\\tsa\\base\\tsa_model.py:473: ValueWarning: No frequency information was provided, so inferred frequency D will be used.\n",
      "  self._init_dates(dates, freq)\n",
      "c:\\Users\\Somit Jain\\AppData\\Local\\Programs\\Python\\Python311\\Lib\\site-packages\\statsmodels\\tsa\\base\\tsa_model.py:473: ValueWarning: No frequency information was provided, so inferred frequency D will be used.\n",
      "  self._init_dates(dates, freq)\n",
      "c:\\Users\\Somit Jain\\AppData\\Local\\Programs\\Python\\Python311\\Lib\\site-packages\\statsmodels\\tsa\\base\\tsa_model.py:473: ValueWarning: No frequency information was provided, so inferred frequency D will be used.\n",
      "  self._init_dates(dates, freq)\n"
     ]
    },
    {
     "name": "stdout",
     "output_type": "stream",
     "text": [
      "predicted=43908604.0485535, expected=43905621, error=2983.048553496599\n",
      "predicted=43928838.94037757, expected=43920451, error=8387.940377570689\n",
      "predicted=43948839.655931205, expected=43938764, error=10075.655931204557\n",
      "predicted=43969071.263499856, expected=43959321, error=9750.263499855995\n",
      "predicted=43989179.16279208, expected=43979730, error=9449.16279207915\n",
      "predicted=44009428.269101046, expected=44000138, error=9290.269101046026\n",
      "predicted=44029615.58298836, expected=44019811, error=9804.582988359034\n",
      "predicted=44049891.82044332, expected=44036275, error=13616.820443317294\n",
      "predicted=44070140.59542869, expected=44050009, error=20131.595428690314\n",
      "predicted=44090447.48783765, expected=44067144, error=23303.487837649882\n",
      "predicted=44110745.61620139, expected=44087037, error=23708.616201393306\n",
      "predicted=44131083.427605025, expected=44107588, error=23495.42760502547\n",
      "predicted=44151422.35311151, expected=44126994, error=24428.35311151296\n",
      "predicted=44171789.68795111, expected=44145709, error=26080.687951110303\n",
      "predicted=44192163.07135808, expected=44145709, error=46454.07135807723\n",
      "predicted=44212557.76480349, expected=44174650, error=37907.76480349153\n",
      "predicted=44232960.700167574, expected=44190697, error=42263.70016757399\n",
      "predicted=44253380.30587135, expected=44206996, error=46384.30587135255\n",
      "predicted=44273808.853819914, expected=44223557, error=50251.85381991416\n",
      "predicted=44294250.90420785, expected=44239372, error=54878.90420784801\n",
      "predicted=44314701.80839322, expected=44253464, error=61237.80839321762\n",
      "predicted=44335163.94718953, expected=44268381, error=66782.94718953222\n",
      "predicted=44355634.457291864, expected=44277711, error=77923.45729186386\n",
      "predicted=44376114.50095543, expected=44286256, error=89858.50095543265\n",
      "predicted=44396602.25825674, expected=44298864, error=97738.25825674087\n",
      "predicted=44417098.218471505, expected=44314618, error=102480.21847150475\n",
      "predicted=44437601.17869343, expected=44327890, error=109711.17869342864\n",
      "predicted=44458111.26407476, expected=44339429, error=118682.2640747577\n",
      "predicted=44478627.642854184, expected=44348960, error=129667.64285418391\n",
      "predicted=44499150.25007265, expected=44357546, error=141604.2500726506\n",
      "predicted=44519678.48256824, expected=44368195, error=151483.48256824166\n",
      "predicted=44540212.182566896, expected=44378920, error=161292.18256689608\n",
      "predicted=44560750.89220068, expected=44389176, error=171574.8922006786\n",
      "predicted=44581294.41461554, expected=44398696, error=182598.4146155417\n",
      "predicted=44601842.38797441, expected=44408132, error=193710.38797441125\n",
      "predicted=44622394.605417855, expected=44415723, error=206671.60541785508\n",
      "predicted=44642950.77150764, expected=44415723, error=227227.77150764316\n",
      "predicted=44663510.68455963, expected=44415723, error=247787.68455962837\n",
      "predicted=44684074.09728361, expected=44436339, error=247735.0972836092\n",
      "predicted=44704640.82058268, expected=44442507, error=262133.8205826804\n",
      "predicted=44725210.6437151, expected=44449726, error=275484.6437150985\n",
      "predicted=44745783.39329266, expected=44456535, error=289248.39329265803\n",
      "predicted=44766358.8874557, expected=44462445, error=303913.8874557018\n",
      "predicted=44786936.96932461, expected=44466862, error=320074.9693246111\n",
      "predicted=44807517.48062122, expected=44469661, error=337856.4806212187\n",
      "predicted=44828100.28056219, expected=44478636, error=349464.2805621922\n",
      "predicted=44848685.23060741, expected=44484729, error=363956.23060741276\n",
      "predicted=44869272.20506561, expected=44490283, error=378989.205065608\n",
      "predicted=44889861.08221728, expected=44495359, error=394502.08221728355\n",
      "predicted=44910451.7502097, expected=44500580, error=409871.7502096966\n",
      "predicted=44931044.1018386, expected=44502363, error=428681.1018386036\n",
      "predicted=44951638.0377723, expected=44510057, error=441581.03777229786\n",
      "predicted=44972233.46343953, expected=44516479, error=455754.4634395316\n",
      "predicted=44992830.29074502, expected=44522777, error=470053.2907450199\n",
      "predicted=45013428.43617507, expected=44528524, error=484904.4361750707\n",
      "predicted=45034027.82166631, expected=44534188, error=499839.82166630775\n",
      "predicted=45054628.37342003, expected=44539046, error=515582.3734200299\n",
      "predicted=45075230.02230026, expected=44543089, error=532141.0223002583\n",
      "predicted=45095832.70306476, expected=44545011, error=550821.703064762\n",
      "predicted=45116436.35450563, expected=44553042, error=563394.3545056283\n",
      "predicted=45137040.91892877, expected=44558425, error=578615.9189287722\n",
      "predicted=45157646.342157535, expected=44563337, error=594309.3421575353\n",
      "predicted=45178252.57316343, expected=44568114, error=610138.5731634274\n",
      "predicted=45198859.56400035, expected=44572243, error=626616.5640003532\n",
      "predicted=45219467.26953001, expected=44575473, error=643994.2695300132\n",
      "predicted=45240075.647324346, expected=44579088, error=660987.647324346\n",
      "predicted=45260684.65745232, expected=44583360, error=677324.6574523225\n",
      "predicted=45281294.262371145, expected=44587307, error=693987.2623711452\n",
      "predicted=45301904.426754594, expected=44591112, error=710792.4267545938\n",
      "predicted=45322515.117383935, expected=44594487, error=728028.1173839346\n",
      "predicted=45343126.303005755, expected=44597498, error=745628.303005755\n",
      "predicted=45363737.95422811, expected=44599466, error=764271.9542281106\n",
      "predicted=45384350.043400265, expected=44601892, error=782458.0434002653\n",
      "predicted=45404962.54451663, expected=44604463, error=800499.5445166305\n",
      "predicted=45425575.433113545, expected=44606460, error=819115.4331135452\n",
      "predicted=45446188.68618188, expected=44609257, error=836931.6861818805\n",
      "predicted=45466802.28207749, expected=44612013, error=854789.2820774913\n",
      "predicted=45487416.20044259, expected=44614437, error=872979.2004425898\n",
      "predicted=45508030.42212751, expected=44616394, error=891636.4221275076\n",
      "predicted=45528644.92912034, expected=44616235, error=912409.9291203395\n",
      "predicted=45549259.704478346, expected=44621319, error=927940.7044783458\n",
      "predicted=45569874.732265234, expected=44623997, error=945877.732265234\n",
      "predicted=45590489.997490816, expected=44626427, error=964062.9974908158\n",
      "predicted=45611105.48605526, expected=44628828, error=982277.4860552624\n",
      "predicted=45631721.18469589, expected=44630888, error=1000833.184695892\n",
      "predicted=45652337.08093772, expected=44632430, error=1019907.0809377208\n",
      "predicted=45672953.16304648, expected=44634376, error=1038577.1630464792\n",
      "predicted=45693569.41998479, expected=44636517, error=1057052.4199847877\n",
      "predicted=45714185.84137066, expected=44638636, error=1075549.841370657\n",
      "predicted=45734802.41743865, expected=44640748, error=1094054.4174386486\n",
      "predicted=45755419.1390032, expected=44642742, error=1112677.1390032023\n",
      "predicted=45776035.99742426, expected=44644076, error=1131959.9974242598\n",
      "predicted=45796652.984574795, expected=44644938, error=1151714.9845747948\n",
      "predicted=45817270.09281043, expected=44645768, error=1171502.0928104296\n",
      "predicted=45837887.31494071, expected=44646880, error=1191007.3149407133\n",
      "predicted=45858504.64420221, expected=44649088, error=1209416.64420221\n",
      "predicted=45879122.074233085, expected=44650662, error=1228460.074233085\n",
      "predicted=45899739.59904933, expected=44652256, error=1247483.5990493298\n",
      "predicted=45920357.21302226, expected=44653592, error=1266765.2130222619\n",
      "predicted=45940974.910857454, expected=44654638, error=1286336.910857454\n",
      "predicted=45961592.68757488, expected=44655828, error=1305764.6875748783\n",
      "predicted=45982210.53849024, expected=44655926, error=1326284.5384902433\n",
      "predicted=46002828.459197424, expected=44658365, error=1344463.4591974244\n",
      "predicted=46023446.445551954, expected=44659447, error=1363999.4455519542\n",
      "predicted=46044064.493655466, expected=44660579, error=1383485.4936554655\n",
      "predicted=46064682.599841096, expected=44661504, error=1403178.5998410955\n",
      "predicted=46085300.760659724, expected=44660293, error=1425007.7606597245\n",
      "predicted=46105918.972867064, expected=44660293, error=1445625.9728670642\n",
      "predicted=46126537.23341148, expected=44660293, error=1466244.2334114835\n",
      "predicted=46147155.53942256, expected=44664810, error=1482345.5394225568\n",
      "predicted=46167773.88820032, expected=44665643, error=1502130.8882003203\n",
      "predicted=46188392.277205154, expected=44666372, error=1522020.2772051543\n",
      "predicted=46209010.70404823, expected=44666924, error=1542086.7040482312\n",
      "predicted=46229629.16648259, expected=44667390, error=1562239.1664825901\n",
      "predicted=46250247.662394695, expected=44667900, error=1582347.662394695\n",
      "predicted=46270866.18979652, expected=44668535, error=1602331.1897965223\n",
      "predicted=46291484.74681812, expected=44667967, error=1623517.7468181178\n",
      "predicted=46312103.331700556, expected=44669748, error=1642355.331700556\n",
      "predicted=46332721.94278935, expected=44670240, error=1662481.9427893534\n",
      "predicted=46353340.5785283, expected=44670646, error=1682694.5785283\n",
      "predicted=46373959.23745358, expected=44670940, error=1703019.23745358\n",
      "predicted=46394577.91818831, expected=44671300, error=1723277.9181883112\n",
      "predicted=46415196.619437374, expected=44671708, error=1743488.6194373742\n",
      "predicted=46435815.33998257, expected=44672048, error=1763767.3399825692\n",
      "predicted=46456434.07867802, expected=44672442, error=1783992.0786780193\n",
      "predicted=46477052.8344459, expected=44672787, error=1804265.8344459012\n",
      "predicted=46497671.606272385, expected=44673078, error=1824593.6062723845\n",
      "predicted=46518290.39320387, expected=44673293, error=1844997.3932038695\n",
      "predicted=46538909.194343366, expected=44673567, error=1865342.1943433657\n",
      "predicted=46559528.008847155, expected=44673863, error=1885665.0088471547\n",
      "predicted=46580146.835921615, expected=44674138, error=1906008.8359216154\n",
      "predicted=46600765.67482027, expected=44674390, error=1926375.6748202667\n",
      "predicted=46621384.52484094, expected=44674616, error=1946768.5248409435\n",
      "predicted=46642003.38532318, expected=44674842, error=1967161.3853231817\n",
      "predicted=46662622.25564574, expected=44675006, error=1987616.255645737\n",
      "predicted=46683241.13522426, expected=44675172, error=2008069.1352242604\n",
      "predicted=46703860.0235091, expected=44675413, error=2028447.0235091\n",
      "predicted=46724478.919983245, expected=44675662, error=2048816.9199832454\n",
      "predicted=46745097.82416039, expected=44675872, error=2069225.8241603896\n",
      "predicted=46765716.735583104, expected=44676045, error=2089671.7355831042\n",
      "predicted=46786335.65382112, expected=44676045, error=2110290.653821118\n",
      "predicted=46806954.578469716, expected=44676318, error=2130636.578469716\n",
      "predicted=46827573.50914822, expected=44676470, error=2151103.5091482177\n",
      "predicted=46848192.44549855, expected=44676670, error=2171522.4454985484\n",
      "predicted=46868811.3871839, expected=44676832, error=2191979.387183897\n",
      "predicted=46889430.33388744, expected=44676999, error=2212431.333887443\n",
      "predicted=46910049.28531119, expected=44677175, error=2232874.2853111923\n",
      "predicted=46930668.24117485, expected=44677310, error=2253358.241174847\n",
      "predicted=46951287.201214746, expected=44677422, error=2273865.2012147456\n",
      "predicted=46971906.165182896, expected=44677554, error=2294352.165182896\n",
      "predicted=46992525.13284602, expected=44677739, error=2314786.13284602\n",
      "predicted=47013144.1039847, expected=44677902, error=2335242.1039846987\n",
      "predicted=47033763.07839254, expected=44678103, error=2355660.078392543\n",
      "predicted=47054382.05587542, expected=44678330, error=2376052.0558754206\n",
      "predicted=47075001.036250725, expected=44678517, error=2396484.0362507254\n",
      "predicted=47095620.01934669, expected=44678683, error=2416937.0193466917\n",
      "predicted=47116239.00500176, expected=44678871, error=2437368.005001761\n",
      "predicted=47136857.993063964, expected=44679139, error=2457718.993063964\n",
      "predicted=47157476.983390346, expected=44679382, error=2478094.983390346\n",
      "predicted=47178095.97584647, expected=44679608, error=2498487.9758464694\n",
      "predicted=47198714.97030585, expected=44679873, error=2518841.9703058526\n",
      "predicted=47219333.96664954, expected=44680046, error=2539287.96664954\n",
      "predicted=47239952.96476563, expected=44680180, error=2559772.9647656307\n",
      "predicted=47260571.96454888, expected=44680355, error=2580216.9645488784\n",
      "predicted=47281190.96590028, expected=44680543, error=2600647.9659002796\n",
      "predicted=47301809.96872671, expected=44680771, error=2621038.9687267095\n",
      "predicted=47322428.97294058, expected=44680985, error=2641443.972940579\n",
      "predicted=47343047.9784595, expected=44681148, error=2661899.9784595\n",
      "predicted=47363666.98520597, expected=44681318, error=2682348.9852059707\n",
      "predicted=47384285.993107095, expected=44681439, error=2702846.9931070954\n",
      "predicted=47404905.002094306, expected=44681610, error=2723295.002094306\n",
      "predicted=47425524.01210311, expected=44681807, error=2743717.0121031106\n",
      "predicted=47446143.02307283, expected=44681981, error=2764162.0230728313\n",
      "predicted=47466762.03494642, expected=44682160, error=2784602.0349464193\n",
      "predicted=47487381.04767019, expected=44682264, error=2805117.047670193\n",
      "predicted=47508000.06119367, expected=44682378, error=2825622.0611936674\n",
      "predicted=47528619.07546935, expected=44682467, error=2846152.0754693523\n",
      "predicted=47549238.09045259, expected=44682595, error=2866643.090452589\n",
      "predicted=47569857.10610135, expected=44682729, error=2887128.106101349\n",
      "predicted=47590476.122376114, expected=44682874, error=2907602.122376114\n",
      "predicted=47611095.13923971, expected=44683005, error=2928090.1392397135\n",
      "predicted=47631714.156657174, expected=44683145, error=2948569.156657174\n",
      "predicted=47652333.17459561, expected=44683239, error=2969094.1745956093\n",
      "predicted=47672952.193024084, expected=44683328, error=2989624.193024084\n",
      "predicted=47693571.211913496, expected=44683430, error=3010141.2119134963\n",
      "predicted=47714190.23123647, expected=44683562, error=3030628.2312364727\n",
      "predicted=47734809.250967264, expected=44683661, error=3051148.250967264\n",
      "predicted=47755428.271081656, expected=44683754, error=3071674.271081656\n",
      "predicted=47776047.29155687, expected=44683863, error=3092184.2915568724\n",
      "predicted=47796666.312371485, expected=44683943, error=3112723.312371485\n",
      "predicted=47817285.33350533, expected=44684009, error=3133276.3335053325\n",
      "predicted=47837904.35493946, expected=44684120, error=3153784.3549394608\n",
      "predicted=47858523.37665604, expected=44684248, error=3174275.3766560405\n",
      "predicted=47879142.3986383, expected=44684347, error=3194795.3986383006\n",
      "predicted=47899761.42087046, expected=44684475, error=3215286.4208704606\n",
      "predicted=47920380.44333768, expected=44684588, error=3235792.443337679\n",
      "predicted=47940999.466026, expected=44684679, error=3256320.4660260007\n",
      "predicted=47961618.4889223, expected=44684768, error=3276850.488922298\n",
      "predicted=47982237.51201422, expected=44684864, error=3297373.5120142177\n",
      "predicted=48002856.535290144, expected=44684973, error=3317883.5352901444\n",
      "predicted=48023475.55873915, expected=44685087, error=3338388.558739148\n",
      "predicted=48044094.582350954, expected=44683862, error=3360232.5823509544\n",
      "predicted=48064713.60611589, expected=44685219, error=3379494.6061158925\n",
      "predicted=48085332.63002487, expected=44685425, error=3399907.6300248727\n",
      "predicted=48105951.654069334, expected=44685499, error=3420452.6540693343\n",
      "predicted=48126570.67824124, expected=44685601, error=3440969.678241238\n",
      "predicted=48147189.702533014, expected=44685727, error=3461462.702533014\n",
      "predicted=48167808.72693755, expected=44685884, error=3481924.7269375473\n",
      "predicted=48188427.75144813, expected=44686001, error=3502426.751448132\n",
      "predicted=48209046.77605848, expected=44686143, error=3522903.77605848\n",
      "predicted=48229665.80076266, expected=44686263, error=3543402.800762661\n",
      "predicted=48250284.82555511, expected=44686358, error=3563926.8255551085\n",
      "predicted=48270903.85043058, expected=44686483, error=3584420.850430578\n",
      "predicted=48291522.87538414, expected=44686676, error=3604846.875384137\n",
      "predicted=48312141.90041115, expected=44686842, error=3625299.9004111513\n",
      "predicted=48332760.925507255, expected=44687025, error=3645735.925507255\n",
      "predicted=48353379.95066836, expected=44687243, error=3666136.9506683573\n",
      "predicted=48373998.97589059, expected=44687428, error=3686570.9758905917\n",
      "predicted=48394618.00117033, expected=44687597, error=3707021.0011703297\n",
      "predicted=48415237.026504144, expected=44687837, error=3727400.026504144\n",
      "predicted=48435856.05188883, expected=44688105, error=3747751.051888831\n",
      "predicted=48456475.07732138, expected=44688388, error=3768087.0773213804\n",
      "predicted=48477094.10279893, expected=44688722, error=3788372.1027989313\n",
      "predicted=48497713.12831883, expected=44689046, error=3808667.1283188313\n",
      "predicted=48518332.15387855, expected=44689327, error=3829005.1538785473\n",
      "predicted=48538951.179475725, expected=44689593, error=3849358.1794757247\n",
      "predicted=48559570.205108136, expected=44689919, error=3869651.205108136\n",
      "predicted=48580189.23077369, expected=44690298, error=3889891.2307736874\n",
      "predicted=48600808.25647042, expected=44690738, error=3910070.2564704195\n"
     ]
    }
   ],
   "source": [
    "# Fit ARIMA model using training data\n",
    "model = ARIMA(df_train, order=(2, 2, 2))\n",
    "model_fit = model.fit()\n",
    "\n",
    "# Make predictions for the entire test set\n",
    "predicted_values = model_fit.predict(start = len(df_train), end = 1143, dynamic=True)\n",
    "\n",
    "# Iterate through the test set to calculate errors and print predictions\n",
    "for t in range(len(df_test)):\n",
    "    # Extract observed value from the test set\n",
    "    obs = df_test.iloc[t]['Total Confirmed']\n",
    "\n",
    "    # Extract predicted value from the predictions array\n",
    "    predicted_value = predicted_values[t]\n",
    "\n",
    "    # Calculate absolute error between observed and predicted values\n",
    "    error = abs(predicted_value - obs)\n",
    "\n",
    "    # Append error and predicted value to lists\n",
    "    error_list.append(obs - predicted_value)\n",
    "    predicted_list.append(predicted_value)\n",
    "\n",
    "    # Print prediction details\n",
    "    print(f\"predicted={predicted_value}, expected={obs}, error={error}\")"
   ]
  },
  {
   "cell_type": "code",
   "execution_count": 18,
   "metadata": {},
   "outputs": [
    {
     "name": "stdout",
     "output_type": "stream",
     "text": [
      "[-2983.048553496599, -8387.940377570689, -10075.655931204557, -9750.263499855995, -9449.16279207915, -9290.269101046026, -9804.582988359034, -13616.820443317294, -20131.595428690314, -23303.487837649882, -23708.616201393306, -23495.42760502547, -24428.35311151296, -26080.687951110303, -46454.07135807723, -37907.76480349153, -42263.70016757399, -46384.30587135255, -50251.85381991416, -54878.90420784801, -61237.80839321762, -66782.94718953222, -77923.45729186386, -89858.50095543265, -97738.25825674087, -102480.21847150475, -109711.17869342864, -118682.2640747577, -129667.64285418391, -141604.2500726506, -151483.48256824166, -161292.18256689608, -171574.8922006786, -182598.4146155417, -193710.38797441125, -206671.60541785508, -227227.77150764316, -247787.68455962837, -247735.0972836092, -262133.8205826804, -275484.6437150985, -289248.39329265803, -303913.8874557018, -320074.9693246111, -337856.4806212187, -349464.2805621922, -363956.23060741276, -378989.205065608, -394502.08221728355, -409871.7502096966, -428681.1018386036, -441581.03777229786, -455754.4634395316, -470053.2907450199, -484904.4361750707, -499839.82166630775, -515582.3734200299, -532141.0223002583, -550821.703064762, -563394.3545056283, -578615.9189287722, -594309.3421575353, -610138.5731634274, -626616.5640003532, -643994.2695300132, -660987.647324346, -677324.6574523225, -693987.2623711452, -710792.4267545938, -728028.1173839346, -745628.303005755, -764271.9542281106, -782458.0434002653, -800499.5445166305, -819115.4331135452, -836931.6861818805, -854789.2820774913, -872979.2004425898, -891636.4221275076, -912409.9291203395, -927940.7044783458, -945877.732265234, -964062.9974908158, -982277.4860552624, -1000833.184695892, -1019907.0809377208, -1038577.1630464792, -1057052.4199847877, -1075549.841370657, -1094054.4174386486, -1112677.1390032023, -1131959.9974242598, -1151714.9845747948, -1171502.0928104296, -1191007.3149407133, -1209416.64420221, -1228460.074233085, -1247483.5990493298, -1266765.2130222619, -1286336.910857454, -1305764.6875748783, -1326284.5384902433, -1344463.4591974244, -1363999.4455519542, -1383485.4936554655, -1403178.5998410955, -1425007.7606597245, -1445625.9728670642, -1466244.2334114835, -1482345.5394225568, -1502130.8882003203, -1522020.2772051543, -1542086.7040482312, -1562239.1664825901, -1582347.662394695, -1602331.1897965223, -1623517.7468181178, -1642355.331700556, -1662481.9427893534, -1682694.5785283, -1703019.23745358, -1723277.9181883112, -1743488.6194373742, -1763767.3399825692, -1783992.0786780193, -1804265.8344459012, -1824593.6062723845, -1844997.3932038695, -1865342.1943433657, -1885665.0088471547, -1906008.8359216154, -1926375.6748202667, -1946768.5248409435, -1967161.3853231817, -1987616.255645737, -2008069.1352242604, -2028447.0235091, -2048816.9199832454, -2069225.8241603896, -2089671.7355831042, -2110290.653821118, -2130636.578469716, -2151103.5091482177, -2171522.4454985484, -2191979.387183897, -2212431.333887443, -2232874.2853111923, -2253358.241174847, -2273865.2012147456, -2294352.165182896, -2314786.13284602, -2335242.1039846987, -2355660.078392543, -2376052.0558754206, -2396484.0362507254, -2416937.0193466917, -2437368.005001761, -2457718.993063964, -2478094.983390346, -2498487.9758464694, -2518841.9703058526, -2539287.96664954, -2559772.9647656307, -2580216.9645488784, -2600647.9659002796, -2621038.9687267095, -2641443.972940579, -2661899.9784595, -2682348.9852059707, -2702846.9931070954, -2723295.002094306, -2743717.0121031106, -2764162.0230728313, -2784602.0349464193, -2805117.047670193, -2825622.0611936674, -2846152.0754693523, -2866643.090452589, -2887128.106101349, -2907602.122376114, -2928090.1392397135, -2948569.156657174, -2969094.1745956093, -2989624.193024084, -3010141.2119134963, -3030628.2312364727, -3051148.250967264, -3071674.271081656, -3092184.2915568724, -3112723.312371485, -3133276.3335053325, -3153784.3549394608, -3174275.3766560405, -3194795.3986383006, -3215286.4208704606, -3235792.443337679, -3256320.4660260007, -3276850.488922298, -3297373.5120142177, -3317883.5352901444, -3338388.558739148, -3360232.5823509544, -3379494.6061158925, -3399907.6300248727, -3420452.6540693343, -3440969.678241238, -3461462.702533014, -3481924.7269375473, -3502426.751448132, -3522903.77605848, -3543402.800762661, -3563926.8255551085, -3584420.850430578, -3604846.875384137, -3625299.9004111513, -3645735.925507255, -3666136.9506683573, -3686570.9758905917, -3707021.0011703297, -3727400.026504144, -3747751.051888831, -3768087.0773213804, -3788372.1027989313, -3808667.1283188313, -3829005.1538785473, -3849358.1794757247, -3869651.205108136, -3889891.2307736874, -3910070.2564704195]\n",
      "229\n"
     ]
    }
   ],
   "source": [
    "print(error_list)\n",
    "print(len(error_list))"
   ]
  },
  {
   "cell_type": "code",
   "execution_count": 19,
   "metadata": {},
   "outputs": [
    {
     "name": "stdout",
     "output_type": "stream",
     "text": [
      "[43905621 43920451 43938764 43959321 43979730 44000138 44019811 44036275\n",
      " 44050009 44067144 44087037 44107588 44126994 44145709 44145709 44174650\n",
      " 44190697 44206996 44223557 44239372 44253464 44268381 44277711 44286256\n",
      " 44298864 44314618 44327890 44339429 44348960 44357546 44368195 44378920\n",
      " 44389176 44398696 44408132 44415723 44415723 44415723 44436339 44442507\n",
      " 44449726 44456535 44462445 44466862 44469661 44478636 44484729 44490283\n",
      " 44495359 44500580 44502363 44510057 44516479 44522777 44528524 44534188\n",
      " 44539046 44543089 44545011 44553042 44558425 44563337 44568114 44572243\n",
      " 44575473 44579088 44583360 44587307 44591112 44594487 44597498 44599466\n",
      " 44601892 44604463 44606460 44609257 44612013 44614437 44616394 44616235\n",
      " 44621319 44623997 44626427 44628828 44630888 44632430 44634376 44636517\n",
      " 44638636 44640748 44642742 44644076 44644938 44645768 44646880 44649088\n",
      " 44650662 44652256 44653592 44654638 44655828 44655926 44658365 44659447\n",
      " 44660579 44661504 44660293 44660293 44660293 44664810 44665643 44666372\n",
      " 44666924 44667390 44667900 44668535 44667967 44669748 44670240 44670646\n",
      " 44670940 44671300 44671708 44672048 44672442 44672787 44673078 44673293\n",
      " 44673567 44673863 44674138 44674390 44674616 44674842 44675006 44675172\n",
      " 44675413 44675662 44675872 44676045 44676045 44676318 44676470 44676670\n",
      " 44676832 44676999 44677175 44677310 44677422 44677554 44677739 44677902\n",
      " 44678103 44678330 44678517 44678683 44678871 44679139 44679382 44679608\n",
      " 44679873 44680046 44680180 44680355 44680543 44680771 44680985 44681148\n",
      " 44681318 44681439 44681610 44681807 44681981 44682160 44682264 44682378\n",
      " 44682467 44682595 44682729 44682874 44683005 44683145 44683239 44683328\n",
      " 44683430 44683562 44683661 44683754 44683863 44683943 44684009 44684120\n",
      " 44684248 44684347 44684475 44684588 44684679 44684768 44684864 44684973\n",
      " 44685087 44683862 44685219 44685425 44685499 44685601 44685727 44685884\n",
      " 44686001 44686143 44686263 44686358 44686483 44686676 44686842 44687025\n",
      " 44687243 44687428 44687597 44687837 44688105 44688388 44688722 44689046\n",
      " 44689327 44689593 44689919 44690298 44690738]\n",
      "229\n",
      "230\n"
     ]
    }
   ],
   "source": [
    "print(df_test['Total Confirmed'].values)\n",
    "print(len(df_test['Total Confirmed'].values))\n",
    "print(len(predicted_values))"
   ]
  },
  {
   "cell_type": "code",
   "execution_count": 20,
   "metadata": {},
   "outputs": [
    {
     "name": "stdout",
     "output_type": "stream",
     "text": [
      "MAPE: 0.037593048771388346\n"
     ]
    }
   ],
   "source": [
    "\n",
    "MAPE = mean_absolute_percentage_error(df_test['Total Confirmed'].values, predicted_values[:-1])\n",
    "print(\"MAPE:\", MAPE)"
   ]
  },
  {
   "cell_type": "code",
   "execution_count": 21,
   "metadata": {},
   "outputs": [],
   "source": [
    "# model = ARIMA(df_train, order=(2,2,2))\n",
    "# model_fit = model.fit()\n",
    "training_error = model_fit.resid"
   ]
  },
  {
   "cell_type": "code",
   "execution_count": 22,
   "metadata": {},
   "outputs": [
    {
     "data": {
      "text/plain": [
       "1/22/20       0.000000\n",
       "1/23/20       0.000000\n",
       "1/24/20       0.000000\n",
       "1/25/20       0.000000\n",
       "1/26/20       0.000000\n",
       "              ...     \n",
       "7/19/22    2988.039918\n",
       "7/20/22    4215.503431\n",
       "7/21/22   -1724.634056\n",
       "7/22/22    -708.708303\n",
       "7/23/22   -1702.480886\n",
       "Length: 914, dtype: float64"
      ]
     },
     "execution_count": 22,
     "metadata": {},
     "output_type": "execute_result"
    }
   ],
   "source": [
    "training_error"
   ]
  },
  {
   "cell_type": "code",
   "execution_count": 23,
   "metadata": {},
   "outputs": [
    {
     "data": {
      "text/plain": [
       "(914,)"
      ]
     },
     "execution_count": 23,
     "metadata": {},
     "output_type": "execute_result"
    }
   ],
   "source": [
    "training_error.shape"
   ]
  },
  {
   "cell_type": "markdown",
   "metadata": {},
   "source": [
    "LSTM"
   ]
  },
  {
   "cell_type": "code",
   "execution_count": 24,
   "metadata": {},
   "outputs": [
    {
     "data": {
      "text/plain": [
       "914"
      ]
     },
     "execution_count": 24,
     "metadata": {},
     "output_type": "execute_result"
    }
   ],
   "source": [
    "len(training_error)"
   ]
  },
  {
   "cell_type": "code",
   "execution_count": 25,
   "metadata": {},
   "outputs": [],
   "source": [
    "train = training_error\n",
    "new_train = []\n",
    "for i in train:\n",
    "    new_train.append(i)\n",
    "new_train = np.array(new_train)\n",
    "test = error_list\n",
    "new_test = []\n",
    "for i in test:\n",
    "    new_test.append(i)\n",
    "new_test = np.array(new_test)"
   ]
  },
  {
   "cell_type": "code",
   "execution_count": 26,
   "metadata": {},
   "outputs": [
    {
     "data": {
      "text/plain": [
       "(914,)"
      ]
     },
     "execution_count": 26,
     "metadata": {},
     "output_type": "execute_result"
    }
   ],
   "source": [
    "new_train.shape"
   ]
  },
  {
   "cell_type": "code",
   "execution_count": 27,
   "metadata": {},
   "outputs": [
    {
     "data": {
      "text/plain": [
       "(229,)"
      ]
     },
     "execution_count": 27,
     "metadata": {},
     "output_type": "execute_result"
    }
   ],
   "source": [
    "new_test.shape"
   ]
  },
  {
   "cell_type": "code",
   "execution_count": 28,
   "metadata": {},
   "outputs": [
    {
     "data": {
      "text/plain": [
       "array([[0.51080251],\n",
       "       [0.51080251],\n",
       "       [0.51080251],\n",
       "       [0.51080251],\n",
       "       [0.51080251],\n",
       "       [0.51080251],\n",
       "       [0.51080251],\n",
       "       [0.51080251],\n",
       "       [0.51081402],\n",
       "       [0.51078828]])"
      ]
     },
     "execution_count": 28,
     "metadata": {},
     "output_type": "execute_result"
    }
   ],
   "source": [
    "scaler_train = MinMaxScaler()\n",
    "scaler_test = MinMaxScaler()\n",
    "# data.head(),df.tail()\n",
    "scaled_train = scaler_train.fit_transform(new_train.reshape(-1, 1))\n",
    "scaled_test = scaler_test.fit_transform(new_test.reshape(-1, 1))\n",
    "scaled_train[:10]\n"
   ]
  },
  {
   "cell_type": "code",
   "execution_count": 29,
   "metadata": {},
   "outputs": [
    {
     "name": "stdout",
     "output_type": "stream",
     "text": [
      "(731, 1)\n",
      "(183, 1)\n"
     ]
    }
   ],
   "source": [
    "split_ratio = 0.8 \n",
    "split_index = int(len(scaled_train) * split_ratio)\n",
    "scaled_train_final = scaled_train[:split_index]\n",
    "scaled_validation_data = scaled_train[split_index:]\n",
    "print(scaled_train_final.shape)\n",
    "print(scaled_validation_data.shape)\n",
    "n_input = 20\n",
    "n_features = 1\n",
    "generator = TimeseriesGenerator(scaled_train_final, scaled_train_final, length=n_input, batch_size=1)\n"
   ]
  },
  {
   "cell_type": "code",
   "execution_count": 30,
   "metadata": {},
   "outputs": [],
   "source": [
    "model = Sequential()\n",
    "model.add(Bidirectional(LSTM(128, activation='tanh', return_sequences=True), input_shape=(n_input, n_features)))\n",
    "model.add(Dropout(0.3))\n",
    "model.add(Bidirectional(LSTM(64, activation='relu')))\n",
    "model.add(BatchNormalization())\n",
    "model.add(Dense(64, activation='elu'))\n",
    "model.add(Dropout(0.3))\n",
    "model.add(Dense(1))\n",
    "optimizer = RMSprop(learning_rate=0.001)  # Adjust learning rate if needed\n",
    "model.compile(optimizer=optimizer, loss='mse')\n",
    "early_stopping = EarlyStopping(monitor='val_loss', patience=5, restore_best_weights=True)\n"
   ]
  },
  {
   "cell_type": "code",
   "execution_count": 31,
   "metadata": {},
   "outputs": [
    {
     "name": "stdout",
     "output_type": "stream",
     "text": [
      "Epoch 1/100\n",
      "711/711 [==============================] - 21s 21ms/step - loss: 0.0139 - val_loss: 0.0014\n",
      "Epoch 2/100\n",
      "711/711 [==============================] - 14s 19ms/step - loss: 0.0107 - val_loss: 0.0081\n",
      "Epoch 3/100\n",
      "711/711 [==============================] - 12s 17ms/step - loss: 0.0107 - val_loss: 0.0081\n",
      "Epoch 4/100\n",
      "711/711 [==============================] - 10s 14ms/step - loss: 0.0101 - val_loss: 0.0110\n",
      "Epoch 5/100\n",
      "711/711 [==============================] - 11s 15ms/step - loss: 0.0093 - val_loss: 0.0011\n",
      "Epoch 6/100\n",
      "711/711 [==============================] - 10s 14ms/step - loss: 0.0090 - val_loss: 0.0025\n",
      "Epoch 7/100\n",
      "711/711 [==============================] - 10s 15ms/step - loss: 0.0089 - val_loss: 0.0013\n",
      "Epoch 8/100\n",
      "711/711 [==============================] - 11s 15ms/step - loss: 0.0092 - val_loss: 9.3560e-04\n",
      "Epoch 9/100\n",
      "711/711 [==============================] - 10s 15ms/step - loss: 0.0086 - val_loss: 0.0048\n",
      "Epoch 10/100\n",
      "711/711 [==============================] - 10s 14ms/step - loss: 0.0086 - val_loss: 8.0643e-04\n",
      "Epoch 11/100\n",
      "711/711 [==============================] - 10s 14ms/step - loss: 0.0085 - val_loss: 0.0027\n",
      "Epoch 12/100\n",
      "711/711 [==============================] - 11s 15ms/step - loss: 0.0083 - val_loss: 0.0011\n",
      "Epoch 13/100\n",
      "711/711 [==============================] - 11s 15ms/step - loss: 0.0083 - val_loss: 0.0057\n",
      "Epoch 14/100\n",
      "711/711 [==============================] - 10s 14ms/step - loss: 0.0082 - val_loss: 4.7546e-04\n",
      "Epoch 15/100\n",
      "711/711 [==============================] - 10s 14ms/step - loss: 0.0079 - val_loss: 4.7958e-04\n",
      "Epoch 16/100\n",
      "711/711 [==============================] - 10s 14ms/step - loss: 0.0080 - val_loss: 0.0017\n",
      "Epoch 17/100\n",
      "711/711 [==============================] - 10s 15ms/step - loss: 0.0079 - val_loss: 6.9615e-04\n",
      "Epoch 18/100\n",
      "711/711 [==============================] - 11s 16ms/step - loss: 0.0079 - val_loss: 5.3017e-04\n",
      "Epoch 19/100\n",
      "711/711 [==============================] - 11s 15ms/step - loss: 0.0082 - val_loss: 4.0510e-04\n",
      "Epoch 20/100\n",
      "711/711 [==============================] - 11s 15ms/step - loss: 0.0078 - val_loss: 9.3368e-04\n",
      "Epoch 21/100\n",
      "711/711 [==============================] - 11s 16ms/step - loss: 0.0077 - val_loss: 5.9663e-04\n",
      "Epoch 22/100\n",
      "711/711 [==============================] - 11s 15ms/step - loss: 0.0079 - val_loss: 4.9645e-04\n",
      "Epoch 23/100\n",
      "711/711 [==============================] - 11s 15ms/step - loss: 0.0079 - val_loss: 0.0024\n",
      "Epoch 24/100\n",
      "711/711 [==============================] - 10s 15ms/step - loss: 0.0077 - val_loss: 4.4727e-04\n"
     ]
    },
    {
     "data": {
      "text/plain": [
       "<keras.callbacks.History at 0x16d41bef7d0>"
      ]
     },
     "execution_count": 31,
     "metadata": {},
     "output_type": "execute_result"
    }
   ],
   "source": [
    "validation_generator = TimeseriesGenerator(scaled_validation_data, scaled_validation_data, length=n_input, batch_size=1)\n",
    "\n",
    "model.fit(generator, epochs=100, callbacks=[early_stopping], validation_data=validation_generator)"
   ]
  },
  {
   "cell_type": "code",
   "execution_count": 32,
   "metadata": {},
   "outputs": [
    {
     "data": {
      "text/plain": [
       "[<matplotlib.lines.Line2D at 0x16d4891dc10>]"
      ]
     },
     "execution_count": 32,
     "metadata": {},
     "output_type": "execute_result"
    },
    {
     "data": {
      "image/png": "[encoded data removed]",
      "text/plain": [
       "<Figure size 640x480 with 1 Axes>"
      ]
     },
     "metadata": {},
     "output_type": "display_data"
    }
   ],
   "source": [
    "loss_per_epoch = model.history.history['loss']\n",
    "plt.plot(range(len(loss_per_epoch)),loss_per_epoch)\n"
   ]
  },
  {
   "cell_type": "code",
   "execution_count": 33,
   "metadata": {},
   "outputs": [
    {
     "name": "stdout",
     "output_type": "stream",
     "text": [
      "1/1 [==============================] - 1s 875ms/step\n"
     ]
    },
    {
     "data": {
      "text/plain": [
       "array([[0.5122267]], dtype=float32)"
      ]
     },
     "execution_count": 33,
     "metadata": {},
     "output_type": "execute_result"
    }
   ],
   "source": [
    "last_train_batch = scaled_train[-20:]\n",
    "last_train_batch = last_train_batch.reshape((1, n_input, n_features))\n",
    "model.predict(last_train_batch)\n"
   ]
  },
  {
   "cell_type": "code",
   "execution_count": 34,
   "metadata": {},
   "outputs": [
    {
     "data": {
      "text/plain": [
       "array([1.])"
      ]
     },
     "execution_count": 34,
     "metadata": {},
     "output_type": "execute_result"
    }
   ],
   "source": [
    "scaled_test[0]\n"
   ]
  },
  {
   "cell_type": "code",
   "execution_count": 35,
   "metadata": {},
   "outputs": [
    {
     "name": "stdout",
     "output_type": "stream",
     "text": [
      "229\n"
     ]
    }
   ],
   "source": [
    "print(len(test))"
   ]
  },
  {
   "cell_type": "code",
   "execution_count": 36,
   "metadata": {},
   "outputs": [
    {
     "name": "stdout",
     "output_type": "stream",
     "text": [
      "1/1 [==============================] - 0s 20ms/step\n",
      "1/1 [==============================] - 0s 24ms/step\n",
      "1/1 [==============================] - 0s 21ms/step\n",
      "1/1 [==============================] - 0s 24ms/step\n",
      "1/1 [==============================] - 0s 20ms/step\n",
      "1/1 [==============================] - 0s 20ms/step\n",
      "1/1 [==============================] - 0s 20ms/step\n",
      "1/1 [==============================] - 0s 21ms/step\n",
      "1/1 [==============================] - 0s 24ms/step\n",
      "1/1 [==============================] - 0s 20ms/step\n",
      "1/1 [==============================] - 0s 24ms/step\n",
      "1/1 [==============================] - 0s 20ms/step\n",
      "1/1 [==============================] - 0s 21ms/step\n",
      "1/1 [==============================] - 0s 24ms/step\n",
      "1/1 [==============================] - 0s 20ms/step\n",
      "1/1 [==============================] - 0s 24ms/step\n",
      "1/1 [==============================] - 0s 20ms/step\n",
      "1/1 [==============================] - 0s 21ms/step\n",
      "1/1 [==============================] - 0s 21ms/step\n",
      "1/1 [==============================] - 0s 21ms/step\n",
      "1/1 [==============================] - 0s 20ms/step\n",
      "1/1 [==============================] - 0s 24ms/step\n",
      "1/1 [==============================] - 0s 20ms/step\n",
      "1/1 [==============================] - 0s 21ms/step\n",
      "1/1 [==============================] - 0s 20ms/step\n",
      "1/1 [==============================] - 0s 20ms/step\n",
      "1/1 [==============================] - 0s 22ms/step\n",
      "1/1 [==============================] - 0s 27ms/step\n",
      "1/1 [==============================] - 0s 20ms/step\n",
      "1/1 [==============================] - 0s 24ms/step\n",
      "1/1 [==============================] - 0s 28ms/step\n",
      "1/1 [==============================] - 0s 20ms/step\n",
      "1/1 [==============================] - 0s 21ms/step\n",
      "1/1 [==============================] - 0s 21ms/step\n",
      "1/1 [==============================] - 0s 20ms/step\n",
      "1/1 [==============================] - 0s 20ms/step\n",
      "1/1 [==============================] - 0s 21ms/step\n",
      "1/1 [==============================] - 0s 24ms/step\n",
      "1/1 [==============================] - 0s 19ms/step\n",
      "1/1 [==============================] - 0s 20ms/step\n",
      "1/1 [==============================] - 0s 21ms/step\n",
      "1/1 [==============================] - 0s 20ms/step\n",
      "1/1 [==============================] - 0s 22ms/step\n",
      "1/1 [==============================] - 0s 23ms/step\n",
      "1/1 [==============================] - 0s 20ms/step\n",
      "1/1 [==============================] - 0s 25ms/step\n",
      "1/1 [==============================] - 0s 19ms/step\n",
      "1/1 [==============================] - 0s 24ms/step\n",
      "1/1 [==============================] - 0s 20ms/step\n",
      "1/1 [==============================] - 0s 20ms/step\n",
      "1/1 [==============================] - 0s 23ms/step\n",
      "1/1 [==============================] - 0s 21ms/step\n",
      "1/1 [==============================] - 0s 24ms/step\n",
      "1/1 [==============================] - 0s 20ms/step\n",
      "1/1 [==============================] - 0s 25ms/step\n",
      "1/1 [==============================] - 0s 23ms/step\n",
      "1/1 [==============================] - 0s 24ms/step\n",
      "1/1 [==============================] - 0s 21ms/step\n",
      "1/1 [==============================] - 0s 36ms/step\n",
      "1/1 [==============================] - 0s 21ms/step\n",
      "1/1 [==============================] - 0s 24ms/step\n",
      "1/1 [==============================] - 0s 24ms/step\n",
      "1/1 [==============================] - 0s 24ms/step\n",
      "1/1 [==============================] - 0s 21ms/step\n",
      "1/1 [==============================] - 0s 21ms/step\n",
      "1/1 [==============================] - 0s 24ms/step\n",
      "1/1 [==============================] - 0s 21ms/step\n",
      "1/1 [==============================] - 0s 21ms/step\n",
      "1/1 [==============================] - 0s 20ms/step\n",
      "1/1 [==============================] - 0s 21ms/step\n",
      "1/1 [==============================] - 0s 20ms/step\n",
      "1/1 [==============================] - 0s 21ms/step\n",
      "1/1 [==============================] - 0s 20ms/step\n",
      "1/1 [==============================] - 0s 20ms/step\n",
      "1/1 [==============================] - 0s 20ms/step\n",
      "1/1 [==============================] - 0s 20ms/step\n",
      "1/1 [==============================] - 0s 20ms/step\n",
      "1/1 [==============================] - 0s 24ms/step\n",
      "1/1 [==============================] - 0s 22ms/step\n",
      "1/1 [==============================] - 0s 23ms/step\n",
      "1/1 [==============================] - 0s 22ms/step\n",
      "1/1 [==============================] - 0s 20ms/step\n",
      "1/1 [==============================] - 0s 20ms/step\n",
      "1/1 [==============================] - 0s 21ms/step\n",
      "1/1 [==============================] - 0s 22ms/step\n",
      "1/1 [==============================] - 0s 21ms/step\n",
      "1/1 [==============================] - 0s 21ms/step\n",
      "1/1 [==============================] - 0s 23ms/step\n",
      "1/1 [==============================] - 0s 21ms/step\n",
      "1/1 [==============================] - 0s 20ms/step\n",
      "1/1 [==============================] - 0s 20ms/step\n",
      "1/1 [==============================] - 0s 21ms/step\n",
      "1/1 [==============================] - 0s 20ms/step\n",
      "1/1 [==============================] - 0s 21ms/step\n",
      "1/1 [==============================] - 0s 23ms/step\n",
      "1/1 [==============================] - 0s 23ms/step\n",
      "1/1 [==============================] - 0s 24ms/step\n",
      "1/1 [==============================] - 0s 20ms/step\n",
      "1/1 [==============================] - 0s 21ms/step\n",
      "1/1 [==============================] - 0s 21ms/step\n",
      "1/1 [==============================] - 0s 21ms/step\n",
      "1/1 [==============================] - 0s 21ms/step\n",
      "1/1 [==============================] - 0s 20ms/step\n",
      "1/1 [==============================] - 0s 20ms/step\n",
      "1/1 [==============================] - 0s 20ms/step\n",
      "1/1 [==============================] - 0s 20ms/step\n",
      "1/1 [==============================] - 0s 21ms/step\n",
      "1/1 [==============================] - 0s 24ms/step\n",
      "1/1 [==============================] - 0s 20ms/step\n",
      "1/1 [==============================] - 0s 19ms/step\n",
      "1/1 [==============================] - 0s 24ms/step\n",
      "1/1 [==============================] - 0s 20ms/step\n",
      "1/1 [==============================] - 0s 20ms/step\n",
      "1/1 [==============================] - 0s 24ms/step\n",
      "1/1 [==============================] - 0s 24ms/step\n",
      "1/1 [==============================] - 0s 19ms/step\n",
      "1/1 [==============================] - 0s 20ms/step\n",
      "1/1 [==============================] - 0s 24ms/step\n",
      "1/1 [==============================] - 0s 23ms/step\n",
      "1/1 [==============================] - 0s 21ms/step\n",
      "1/1 [==============================] - 0s 16ms/step\n",
      "1/1 [==============================] - 0s 23ms/step\n",
      "1/1 [==============================] - 0s 21ms/step\n",
      "1/1 [==============================] - 0s 24ms/step\n",
      "1/1 [==============================] - 0s 21ms/step\n",
      "1/1 [==============================] - 0s 16ms/step\n",
      "1/1 [==============================] - 0s 20ms/step\n",
      "1/1 [==============================] - 0s 22ms/step\n",
      "1/1 [==============================] - 0s 20ms/step\n",
      "1/1 [==============================] - 0s 21ms/step\n",
      "1/1 [==============================] - 0s 22ms/step\n",
      "1/1 [==============================] - 0s 21ms/step\n",
      "1/1 [==============================] - 0s 25ms/step\n",
      "1/1 [==============================] - 0s 20ms/step\n",
      "1/1 [==============================] - 0s 20ms/step\n",
      "1/1 [==============================] - 0s 20ms/step\n",
      "1/1 [==============================] - 0s 22ms/step\n",
      "1/1 [==============================] - 0s 21ms/step\n",
      "1/1 [==============================] - 0s 25ms/step\n",
      "1/1 [==============================] - 0s 24ms/step\n",
      "1/1 [==============================] - 0s 20ms/step\n",
      "1/1 [==============================] - 0s 20ms/step\n",
      "1/1 [==============================] - 0s 20ms/step\n",
      "1/1 [==============================] - 0s 21ms/step\n",
      "1/1 [==============================] - 0s 23ms/step\n",
      "1/1 [==============================] - 0s 24ms/step\n",
      "1/1 [==============================] - 0s 25ms/step\n",
      "1/1 [==============================] - 0s 21ms/step\n",
      "1/1 [==============================] - 0s 25ms/step\n",
      "1/1 [==============================] - 0s 24ms/step\n",
      "1/1 [==============================] - 0s 21ms/step\n",
      "1/1 [==============================] - 0s 20ms/step\n",
      "1/1 [==============================] - 0s 20ms/step\n",
      "1/1 [==============================] - 0s 23ms/step\n",
      "1/1 [==============================] - 0s 20ms/step\n",
      "1/1 [==============================] - 0s 20ms/step\n",
      "1/1 [==============================] - 0s 33ms/step\n",
      "1/1 [==============================] - 0s 29ms/step\n",
      "1/1 [==============================] - 0s 20ms/step\n",
      "1/1 [==============================] - 0s 24ms/step\n",
      "1/1 [==============================] - 0s 20ms/step\n",
      "1/1 [==============================] - 0s 20ms/step\n",
      "1/1 [==============================] - 0s 20ms/step\n",
      "1/1 [==============================] - 0s 21ms/step\n",
      "1/1 [==============================] - 0s 20ms/step\n",
      "1/1 [==============================] - 0s 21ms/step\n",
      "1/1 [==============================] - 0s 26ms/step\n",
      "1/1 [==============================] - 0s 24ms/step\n",
      "1/1 [==============================] - 0s 20ms/step\n",
      "1/1 [==============================] - 0s 20ms/step\n",
      "1/1 [==============================] - 0s 21ms/step\n",
      "1/1 [==============================] - 0s 25ms/step\n",
      "1/1 [==============================] - 0s 21ms/step\n",
      "1/1 [==============================] - 0s 25ms/step\n",
      "1/1 [==============================] - 0s 21ms/step\n",
      "1/1 [==============================] - 0s 24ms/step\n",
      "1/1 [==============================] - 0s 23ms/step\n",
      "1/1 [==============================] - 0s 21ms/step\n",
      "1/1 [==============================] - 0s 21ms/step\n",
      "1/1 [==============================] - 0s 20ms/step\n",
      "1/1 [==============================] - 0s 25ms/step\n",
      "1/1 [==============================] - 0s 21ms/step\n",
      "1/1 [==============================] - 0s 20ms/step\n",
      "1/1 [==============================] - 0s 21ms/step\n",
      "1/1 [==============================] - 0s 24ms/step\n",
      "1/1 [==============================] - 0s 20ms/step\n",
      "1/1 [==============================] - 0s 17ms/step\n",
      "1/1 [==============================] - 0s 20ms/step\n",
      "1/1 [==============================] - 0s 24ms/step\n",
      "1/1 [==============================] - 0s 20ms/step\n",
      "1/1 [==============================] - 0s 22ms/step\n",
      "1/1 [==============================] - 0s 24ms/step\n",
      "1/1 [==============================] - 0s 24ms/step\n",
      "1/1 [==============================] - 0s 24ms/step\n",
      "1/1 [==============================] - 0s 20ms/step\n",
      "1/1 [==============================] - 0s 25ms/step\n",
      "1/1 [==============================] - 0s 21ms/step\n",
      "1/1 [==============================] - 0s 20ms/step\n",
      "1/1 [==============================] - 0s 20ms/step\n",
      "1/1 [==============================] - 0s 22ms/step\n",
      "1/1 [==============================] - 0s 23ms/step\n",
      "1/1 [==============================] - 0s 18ms/step\n",
      "1/1 [==============================] - 0s 25ms/step\n",
      "1/1 [==============================] - 0s 25ms/step\n",
      "1/1 [==============================] - 0s 21ms/step\n",
      "1/1 [==============================] - 0s 20ms/step\n",
      "1/1 [==============================] - 0s 20ms/step\n",
      "1/1 [==============================] - 0s 22ms/step\n",
      "1/1 [==============================] - 0s 28ms/step\n",
      "1/1 [==============================] - 0s 21ms/step\n",
      "1/1 [==============================] - 0s 21ms/step\n",
      "1/1 [==============================] - 0s 21ms/step\n",
      "1/1 [==============================] - 0s 22ms/step\n",
      "1/1 [==============================] - 0s 21ms/step\n",
      "1/1 [==============================] - 0s 21ms/step\n",
      "1/1 [==============================] - 0s 23ms/step\n",
      "1/1 [==============================] - 0s 21ms/step\n",
      "1/1 [==============================] - 0s 20ms/step\n",
      "1/1 [==============================] - 0s 20ms/step\n",
      "1/1 [==============================] - 0s 23ms/step\n",
      "1/1 [==============================] - 0s 20ms/step\n",
      "1/1 [==============================] - 0s 20ms/step\n",
      "1/1 [==============================] - 0s 20ms/step\n",
      "1/1 [==============================] - 0s 20ms/step\n",
      "1/1 [==============================] - 0s 20ms/step\n",
      "1/1 [==============================] - 0s 24ms/step\n",
      "1/1 [==============================] - 0s 22ms/step\n",
      "1/1 [==============================] - 0s 20ms/step\n",
      "1/1 [==============================] - 0s 21ms/step\n"
     ]
    },
    {
     "data": {
      "text/plain": [
       "[array([0.5122267], dtype=float32),\n",
       " array([0.51183796], dtype=float32),\n",
       " array([0.5122559], dtype=float32),\n",
       " array([0.51245123], dtype=float32),\n",
       " array([0.51239884], dtype=float32),\n",
       " array([0.51230615], dtype=float32),\n",
       " array([0.51216006], dtype=float32),\n",
       " array([0.5119679], dtype=float32),\n",
       " array([0.5116675], dtype=float32),\n",
       " array([0.5121811], dtype=float32),\n",
       " array([0.5124959], dtype=float32),\n",
       " array([0.5124665], dtype=float32),\n",
       " array([0.5123532], dtype=float32),\n",
       " array([0.512333], dtype=float32),\n",
       " array([0.5118738], dtype=float32),\n",
       " array([0.5118364], dtype=float32),\n",
       " array([0.51226383], dtype=float32),\n",
       " array([0.5127689], dtype=float32),\n",
       " array([0.5125087], dtype=float32),\n",
       " array([0.51239586], dtype=float32),\n",
       " array([0.5121733], dtype=float32),\n",
       " array([0.5121743], dtype=float32),\n",
       " array([0.5121709], dtype=float32),\n",
       " array([0.5121714], dtype=float32),\n",
       " array([0.51217335], dtype=float32),\n",
       " array([0.51217437], dtype=float32),\n",
       " array([0.5121741], dtype=float32),\n",
       " array([0.5121717], dtype=float32),\n",
       " array([0.51216763], dtype=float32),\n",
       " array([0.5121611], dtype=float32),\n",
       " array([0.51216036], dtype=float32),\n",
       " array([0.512163], dtype=float32),\n",
       " array([0.51216555], dtype=float32),\n",
       " array([0.51216656], dtype=float32),\n",
       " array([0.51216686], dtype=float32),\n",
       " array([0.5121626], dtype=float32),\n",
       " array([0.5121592], dtype=float32),\n",
       " array([0.5121607], dtype=float32),\n",
       " array([0.51216775], dtype=float32),\n",
       " array([0.51217157], dtype=float32),\n",
       " array([0.51217407], dtype=float32),\n",
       " array([0.5121742], dtype=float32),\n",
       " array([0.5121743], dtype=float32),\n",
       " array([0.5121744], dtype=float32),\n",
       " array([0.51217455], dtype=float32),\n",
       " array([0.51217467], dtype=float32),\n",
       " array([0.5121748], dtype=float32),\n",
       " array([0.5121749], dtype=float32),\n",
       " array([0.51217496], dtype=float32),\n",
       " array([0.51217496], dtype=float32),\n",
       " array([0.51217484], dtype=float32),\n",
       " array([0.5121747], dtype=float32),\n",
       " array([0.51217467], dtype=float32),\n",
       " array([0.5121746], dtype=float32),\n",
       " array([0.51217455], dtype=float32),\n",
       " array([0.5121744], dtype=float32),\n",
       " array([0.5121743], dtype=float32),\n",
       " array([0.5121741], dtype=float32),\n",
       " array([0.51217395], dtype=float32),\n",
       " array([0.5121739], dtype=float32),\n",
       " array([0.51217383], dtype=float32),\n",
       " array([0.51217383], dtype=float32),\n",
       " array([0.51217383], dtype=float32),\n",
       " array([0.51217383], dtype=float32),\n",
       " array([0.5121738], dtype=float32),\n",
       " array([0.5121738], dtype=float32),\n",
       " array([0.5121738], dtype=float32),\n",
       " array([0.5121738], dtype=float32),\n",
       " array([0.51217383], dtype=float32),\n",
       " array([0.51217383], dtype=float32),\n",
       " array([0.51217383], dtype=float32),\n",
       " array([0.51217383], dtype=float32),\n",
       " array([0.5121739], dtype=float32),\n",
       " array([0.5121739], dtype=float32),\n",
       " array([0.5121739], dtype=float32),\n",
       " array([0.5121739], dtype=float32),\n",
       " array([0.5121739], dtype=float32),\n",
       " array([0.5121739], dtype=float32),\n",
       " array([0.5121739], dtype=float32),\n",
       " array([0.5121739], dtype=float32),\n",
       " array([0.5121739], dtype=float32),\n",
       " array([0.5121739], dtype=float32),\n",
       " array([0.5121739], dtype=float32),\n",
       " array([0.5121739], dtype=float32),\n",
       " array([0.5121739], dtype=float32),\n",
       " array([0.51217395], dtype=float32),\n",
       " array([0.5121739], dtype=float32),\n",
       " array([0.5121739], dtype=float32),\n",
       " array([0.5121739], dtype=float32),\n",
       " array([0.5121739], dtype=float32),\n",
       " array([0.5121739], dtype=float32),\n",
       " array([0.5121739], dtype=float32),\n",
       " array([0.5121739], dtype=float32),\n",
       " array([0.5121739], dtype=float32),\n",
       " array([0.5121739], dtype=float32),\n",
       " array([0.5121739], dtype=float32),\n",
       " array([0.5121739], dtype=float32),\n",
       " array([0.5121739], dtype=float32),\n",
       " array([0.5121739], dtype=float32),\n",
       " array([0.5121739], dtype=float32),\n",
       " array([0.5121739], dtype=float32),\n",
       " array([0.5121739], dtype=float32),\n",
       " array([0.5121739], dtype=float32),\n",
       " array([0.5121739], dtype=float32),\n",
       " array([0.5121739], dtype=float32),\n",
       " array([0.5121739], dtype=float32),\n",
       " array([0.5121739], dtype=float32),\n",
       " array([0.5121739], dtype=float32),\n",
       " array([0.5121739], dtype=float32),\n",
       " array([0.5121739], dtype=float32),\n",
       " array([0.5121739], dtype=float32),\n",
       " array([0.5121739], dtype=float32),\n",
       " array([0.5121739], dtype=float32),\n",
       " array([0.5121739], dtype=float32),\n",
       " array([0.5121739], dtype=float32),\n",
       " array([0.5121739], dtype=float32),\n",
       " array([0.5121739], dtype=float32),\n",
       " array([0.5121739], dtype=float32),\n",
       " array([0.5121739], dtype=float32),\n",
       " array([0.5121739], dtype=float32),\n",
       " array([0.5121739], dtype=float32),\n",
       " array([0.5121739], dtype=float32),\n",
       " array([0.5121739], dtype=float32),\n",
       " array([0.5121739], dtype=float32),\n",
       " array([0.5121739], dtype=float32),\n",
       " array([0.5121739], dtype=float32),\n",
       " array([0.5121739], dtype=float32),\n",
       " array([0.5121739], dtype=float32),\n",
       " array([0.5121739], dtype=float32),\n",
       " array([0.5121739], dtype=float32),\n",
       " array([0.5121739], dtype=float32),\n",
       " array([0.5121739], dtype=float32),\n",
       " array([0.5121739], dtype=float32),\n",
       " array([0.5121739], dtype=float32),\n",
       " array([0.5121739], dtype=float32),\n",
       " array([0.5121739], dtype=float32),\n",
       " array([0.5121739], dtype=float32),\n",
       " array([0.5121739], dtype=float32),\n",
       " array([0.5121739], dtype=float32),\n",
       " array([0.5121739], dtype=float32),\n",
       " array([0.5121739], dtype=float32),\n",
       " array([0.5121739], dtype=float32),\n",
       " array([0.5121739], dtype=float32),\n",
       " array([0.5121739], dtype=float32),\n",
       " array([0.5121739], dtype=float32),\n",
       " array([0.5121739], dtype=float32),\n",
       " array([0.5121739], dtype=float32),\n",
       " array([0.5121739], dtype=float32),\n",
       " array([0.5121739], dtype=float32),\n",
       " array([0.5121739], dtype=float32),\n",
       " array([0.5121739], dtype=float32),\n",
       " array([0.5121739], dtype=float32),\n",
       " array([0.5121739], dtype=float32),\n",
       " array([0.5121739], dtype=float32),\n",
       " array([0.5121739], dtype=float32),\n",
       " array([0.5121739], dtype=float32),\n",
       " array([0.5121739], dtype=float32),\n",
       " array([0.5121739], dtype=float32),\n",
       " array([0.5121739], dtype=float32),\n",
       " array([0.5121739], dtype=float32),\n",
       " array([0.5121739], dtype=float32),\n",
       " array([0.5121739], dtype=float32),\n",
       " array([0.5121739], dtype=float32),\n",
       " array([0.5121739], dtype=float32),\n",
       " array([0.5121739], dtype=float32),\n",
       " array([0.5121739], dtype=float32),\n",
       " array([0.5121739], dtype=float32),\n",
       " array([0.5121739], dtype=float32),\n",
       " array([0.5121739], dtype=float32),\n",
       " array([0.5121739], dtype=float32),\n",
       " array([0.5121739], dtype=float32),\n",
       " array([0.5121739], dtype=float32),\n",
       " array([0.5121739], dtype=float32),\n",
       " array([0.5121739], dtype=float32),\n",
       " array([0.5121739], dtype=float32),\n",
       " array([0.5121739], dtype=float32),\n",
       " array([0.5121739], dtype=float32),\n",
       " array([0.5121739], dtype=float32),\n",
       " array([0.5121739], dtype=float32),\n",
       " array([0.5121739], dtype=float32),\n",
       " array([0.5121739], dtype=float32),\n",
       " array([0.5121739], dtype=float32),\n",
       " array([0.5121739], dtype=float32),\n",
       " array([0.5121739], dtype=float32),\n",
       " array([0.5121739], dtype=float32),\n",
       " array([0.5121739], dtype=float32),\n",
       " array([0.5121739], dtype=float32),\n",
       " array([0.5121739], dtype=float32),\n",
       " array([0.5121739], dtype=float32),\n",
       " array([0.5121739], dtype=float32),\n",
       " array([0.5121739], dtype=float32),\n",
       " array([0.5121739], dtype=float32),\n",
       " array([0.5121739], dtype=float32),\n",
       " array([0.5121739], dtype=float32),\n",
       " array([0.5121739], dtype=float32),\n",
       " array([0.5121739], dtype=float32),\n",
       " array([0.5121739], dtype=float32),\n",
       " array([0.5121739], dtype=float32),\n",
       " array([0.5121739], dtype=float32),\n",
       " array([0.5121739], dtype=float32),\n",
       " array([0.5121739], dtype=float32),\n",
       " array([0.5121739], dtype=float32),\n",
       " array([0.5121739], dtype=float32),\n",
       " array([0.5121739], dtype=float32),\n",
       " array([0.5121739], dtype=float32),\n",
       " array([0.5121739], dtype=float32),\n",
       " array([0.5121739], dtype=float32),\n",
       " array([0.5121739], dtype=float32),\n",
       " array([0.5121739], dtype=float32),\n",
       " array([0.5121739], dtype=float32),\n",
       " array([0.5121739], dtype=float32),\n",
       " array([0.5121739], dtype=float32),\n",
       " array([0.5121739], dtype=float32),\n",
       " array([0.5121739], dtype=float32),\n",
       " array([0.5121739], dtype=float32),\n",
       " array([0.5121739], dtype=float32),\n",
       " array([0.5121739], dtype=float32),\n",
       " array([0.5121739], dtype=float32),\n",
       " array([0.5121739], dtype=float32),\n",
       " array([0.5121739], dtype=float32),\n",
       " array([0.5121739], dtype=float32),\n",
       " array([0.5121739], dtype=float32),\n",
       " array([0.5121739], dtype=float32),\n",
       " array([0.5121739], dtype=float32),\n",
       " array([0.5121739], dtype=float32),\n",
       " array([0.5121739], dtype=float32),\n",
       " array([0.5121739], dtype=float32),\n",
       " array([0.5121739], dtype=float32),\n",
       " array([0.5121739], dtype=float32)]"
      ]
     },
     "execution_count": 36,
     "metadata": {},
     "output_type": "execute_result"
    }
   ],
   "source": [
    "test_predictions = []\n",
    "\n",
    "first_eval_batch = scaled_train[-n_input:]\n",
    "current_batch = first_eval_batch.reshape((1, n_input, n_features))\n",
    "\n",
    "for i in range(len(test)):\n",
    "\n",
    "    # get the prediction value for the first batch\n",
    "    current_pred = model.predict(current_batch)[0]\n",
    "\n",
    "    # append the prediction into the array\n",
    "    test_predictions.append(current_pred)\n",
    "\n",
    "    # use the prediction to update the batch and remove the first value\n",
    "    current_batch = np.append(current_batch[:,1:,:],[[current_pred]],axis=1)\n",
    "test_predictions"
   ]
  },
  {
   "cell_type": "code",
   "execution_count": 37,
   "metadata": {},
   "outputs": [
    {
     "data": {
      "text/html": [
       "<div>\n",
       "<style scoped>\n",
       "    .dataframe tbody tr th:only-of-type {\n",
       "        vertical-align: middle;\n",
       "    }\n",
       "\n",
       "    .dataframe tbody tr th {\n",
       "        vertical-align: top;\n",
       "    }\n",
       "\n",
       "    .dataframe thead th {\n",
       "        text-align: right;\n",
       "    }\n",
       "</style>\n",
       "<table border=\"1\" class=\"dataframe\">\n",
       "  <thead>\n",
       "    <tr style=\"text-align: right;\">\n",
       "      <th></th>\n",
       "      <th>0</th>\n",
       "      <th>Predictions</th>\n",
       "    </tr>\n",
       "  </thead>\n",
       "  <tbody>\n",
       "    <tr>\n",
       "      <th>0</th>\n",
       "      <td>-2983.048553</td>\n",
       "      <td>-1.908756e+06</td>\n",
       "    </tr>\n",
       "    <tr>\n",
       "      <th>1</th>\n",
       "      <td>-8387.940378</td>\n",
       "      <td>-1.910275e+06</td>\n",
       "    </tr>\n",
       "    <tr>\n",
       "      <th>2</th>\n",
       "      <td>-10075.655931</td>\n",
       "      <td>-1.908642e+06</td>\n",
       "    </tr>\n",
       "    <tr>\n",
       "      <th>3</th>\n",
       "      <td>-9750.263500</td>\n",
       "      <td>-1.907879e+06</td>\n",
       "    </tr>\n",
       "    <tr>\n",
       "      <th>4</th>\n",
       "      <td>-9449.162792</td>\n",
       "      <td>-1.908083e+06</td>\n",
       "    </tr>\n",
       "  </tbody>\n",
       "</table>\n",
       "</div>"
      ],
      "text/plain": [
       "              0   Predictions\n",
       "0  -2983.048553 -1.908756e+06\n",
       "1  -8387.940378 -1.910275e+06\n",
       "2 -10075.655931 -1.908642e+06\n",
       "3  -9750.263500 -1.907879e+06\n",
       "4  -9449.162792 -1.908083e+06"
      ]
     },
     "execution_count": 37,
     "metadata": {},
     "output_type": "execute_result"
    }
   ],
   "source": [
    "true_predictions = scaler_test.inverse_transform(test_predictions)\n",
    "new_test = pd.DataFrame(new_test)\n",
    "# new_test.head()\n",
    "new_test.rename(columns={'O': 'error'}, inplace=True)\n",
    "new_test['Predictions'] = true_predictions\n",
    "new_test.head()"
   ]
  },
  {
   "cell_type": "code",
   "execution_count": 38,
   "metadata": {},
   "outputs": [
    {
     "name": "stdout",
     "output_type": "stream",
     "text": [
      "229\n"
     ]
    }
   ],
   "source": [
    "print(len(new_test))"
   ]
  },
  {
   "cell_type": "code",
   "execution_count": 39,
   "metadata": {},
   "outputs": [
    {
     "name": "stdout",
     "output_type": "stream",
     "text": [
      "229\n",
      "229\n"
     ]
    }
   ],
   "source": [
    "print(len(predicted_list))\n",
    "print(len(true_predictions))"
   ]
  },
  {
   "cell_type": "code",
   "execution_count": 40,
   "metadata": {},
   "outputs": [
    {
     "name": "stdout",
     "output_type": "stream",
     "text": [
      "[41999848.18226495 42020083.07408902 42040083.78964266 42060315.39721131\n",
      " 42080423.29650353 42100672.4028125  42120859.71669981 42141135.95415477\n",
      " 42161384.72914015 42181691.6215491  42201989.74991284 42222327.56131648\n",
      " 42242666.48682296 42263033.82166256 42283407.20506953 42303801.89851494\n",
      " 42324204.83387902 42344624.43958281 42365052.98753136 42385495.0379193\n",
      " 42405945.94210467 42426408.08090098 42446878.59100331 42467358.63466689\n",
      " 42487846.39196819 42508342.35218295 42528845.31240489 42549355.39778621\n",
      " 42569871.77656564 42590394.3837841  42610922.61627969 42631456.31627835\n",
      " 42651995.02591214 42672538.548327   42693086.52168587 42713638.7391293\n",
      " 42734194.90521909 42754754.81827109 42775318.23099506 42795884.95429413\n",
      " 42816454.77742656 42837027.52700411 42857603.02116716 42878181.10303606\n",
      " 42898761.61433268 42919344.41427365 42939929.36431886 42960516.33877707\n",
      " 42981105.21592873 43001695.88392115 43022288.23555006 43042882.17148376\n",
      " 43063477.59715098 43084074.42445648 43104672.56988652 43125271.95537776\n",
      " 43145872.50713149 43166474.15601172 43187076.83677621 43207680.48821709\n",
      " 43228285.05264023 43248890.47586899 43269496.70687488 43290103.69771181\n",
      " 43310711.40324147 43331319.7810358  43351928.79116377 43372538.39608259\n",
      " 43393148.56046605 43413759.25109538 43434370.43671721 43454982.08793956\n",
      " 43475594.17711172 43496206.67822808 43516819.566825   43537432.81989333\n",
      " 43558046.41578895 43578660.33415404 43599274.55583896 43619889.06283179\n",
      " 43640503.8381898  43661118.86597669 43681734.13120227 43702349.61976671\n",
      " 43722965.31840734 43743581.21464917 43764197.29675794 43784813.55369624\n",
      " 43805429.97508211 43826046.5511501  43846663.27271466 43867280.13113572\n",
      " 43887897.11828625 43908514.22652188 43929131.44865216 43949748.77791366\n",
      " 43970366.20794454 43990983.73276079 44011601.34673372 44032219.04456891\n",
      " 44052836.82128634 44073454.67220169 44094072.59290887 44114690.5792634\n",
      " 44135308.62736692 44155926.73355255 44176544.89437118 44197163.10657851\n",
      " 44217781.36712293 44238399.67313401 44259018.02191177 44279636.41091661\n",
      " 44300254.83775969 44320873.30019404 44341491.79610614 44362110.32350798\n",
      " 44382728.88052957 44403347.46541201 44423966.0765008  44444584.71223976\n",
      " 44465203.37116504 44485822.05189976 44506440.75314882 44527059.47369403\n",
      " 44547678.21238947 44568296.96815735 44588915.73998384 44609534.52691533\n",
      " 44630153.32805482 44650772.1425586  44671390.96963307 44692009.80853172\n",
      " 44712628.65855239 44733247.51903464 44753866.38935719 44774485.26893571\n",
      " 44795104.15722056 44815723.0536947  44836341.95787184 44856960.86929455\n",
      " 44877579.78753257 44898198.71218117 44918817.64285967 44939436.57921\n",
      " 44960055.52089535 44980674.4675989  45001293.41902265 45021912.3748863\n",
      " 45042531.3349262  45063150.29889435 45083769.26655747 45104388.23769616\n",
      " 45125007.21210399 45145626.18958688 45166245.16996218 45186864.15305814\n",
      " 45207483.13871321 45228102.12677541 45248721.1171018  45269340.10955793\n",
      " 45289959.1040173  45310578.10036099 45331197.09847708 45351816.09826033\n",
      " 45372435.09961173 45393054.10243817 45413673.10665204 45434292.11217095\n",
      " 45454911.11891742 45475530.12681855 45496149.13580576 45516768.14581457\n",
      " 45537387.15678428 45558006.16865787 45578625.18138164 45599244.19490512\n",
      " 45619863.2091808  45640482.22416404 45661101.23981281 45681720.25608757\n",
      " 45702339.27295117 45722958.29036863 45743577.30830707 45764196.32673554\n",
      " 45784815.34562495 45805434.36494793 45826053.38467872 45846672.40479311\n",
      " 45867291.42526832 45887910.44608293 45908529.46721679 45929148.48865092\n",
      " 45949767.5103675  45970386.53234975 45991005.55458191 46011624.57704914\n",
      " 46032243.59973745 46052862.62263376 46073481.64572567 46094100.66900159\n",
      " 46114719.6924506  46135338.71606241 46155957.73982735 46176576.76373632\n",
      " 46197195.78778079 46217814.8119527  46238433.83624446 46259052.860649\n",
      " 46279671.88515958 46300290.90976994 46320909.93447411 46341528.95926656\n",
      " 46362147.98414204 46382767.00909559 46403386.0341226  46424005.0592187\n",
      " 46444624.08437981 46465243.10960205 46485862.13488178 46506481.1602156\n",
      " 46527100.18560028 46547719.21103284 46568338.23651038 46588957.26203029\n",
      " 46609576.28759    46630195.31318718 46650814.33881959 46671433.36448514\n",
      " 46692052.39018187]\n"
     ]
    }
   ],
   "source": [
    "print((predicted_list+true_predictions)[0])"
   ]
  },
  {
   "cell_type": "code",
   "execution_count": 41,
   "metadata": {},
   "outputs": [],
   "source": [
    "pred_final = true_predictions + predicted_list"
   ]
  },
  {
   "cell_type": "code",
   "execution_count": 42,
   "metadata": {},
   "outputs": [
    {
     "name": "stdout",
     "output_type": "stream",
     "text": [
      "229\n",
      "(229, 229)\n"
     ]
    },
    {
     "data": {
      "image/png": "[encoded data removed]",
      "text/plain": [
       "<Figure size 640x480 with 1 Axes>"
      ]
     },
     "metadata": {},
     "output_type": "display_data"
    }
   ],
   "source": [
    "\n",
    "start_index = len(data) - len(pred_final)\n",
    "year_pred = np.arange(start_index,len(data))\n",
    "dates = data.index\n",
    "year_new = np.arange(len(dates))\n",
    "total_confirmed = data['Total Confirmed'].values\n",
    "plt.plot(year_new, total_confirmed, label='Actual',color = \"orange\")\n",
    "plt.plot(year_pred, pred_final[0], label='Prediction',color = \"green\")\n",
    "plt.legend()\n",
    "print(len(year_pred))\n",
    "print(pred_final.shape)\n",
    "plt.title('Proposed Model Prediction vs Actual')\n",
    "plt.xlabel('Days')\n",
    "plt.ylabel('Total Confirmed Cases')\n",
    "plt.show()"
   ]
  },
  {
   "cell_type": "code",
   "execution_count": 43,
   "metadata": {},
   "outputs": [
    {
     "name": "stdout",
     "output_type": "stream",
     "text": [
      "229\n",
      "229\n"
     ]
    }
   ],
   "source": [
    "print(len(pred_final))\n",
    "print(len(df_test['Total Confirmed']))"
   ]
  },
  {
   "cell_type": "code",
   "execution_count": 44,
   "metadata": {},
   "outputs": [
    {
     "name": "stdout",
     "output_type": "stream",
     "text": [
      "Test MAPE: 2.4572\n",
      "Test MDAPE: 2.5566\n",
      "SMAPE: 2.4680\n"
     ]
    }
   ],
   "source": [
    "error = mean_absolute_percentage_error(df_test['Total Confirmed'].to_list(),pred_final[0])*100\n",
    "print('Test MAPE: %.4f' % error)\n",
    "mdape = np.median((np.abs(np.subtract(df_test['Total Confirmed'].to_list(), pred_final[0])/df_test['Total Confirmed'].to_list())))*100\n",
    "print('Test MDAPE: %.4f' % mdape)\n",
    "smape = 100/len(df_test['Total Confirmed'].values) * np.sum(2 * np.abs(df_test['Total Confirmed'].values - pred_final[0]) / (np.abs(df_test['Total Confirmed'].values) + np.abs(pred_final[0])))\n",
    "print('SMAPE: %.4f' % smape)"
   ]
  },
  {
   "cell_type": "code",
   "execution_count": 45,
   "metadata": {},
   "outputs": [
    {
     "name": "stdout",
     "output_type": "stream",
     "text": [
      "Test MAPE: 0.024572\n"
     ]
    }
   ],
   "source": [
    "error = mean_absolute_percentage_error(df_test['Total Confirmed'].to_list(),pred_final[0])\n",
    "print('Test MAPE: %f' % error)"
   ]
  },
  {
   "cell_type": "code",
   "execution_count": 46,
   "metadata": {},
   "outputs": [
    {
     "name": "stdout",
     "output_type": "stream",
     "text": [
      "Test MDAPE: 2.556622\n"
     ]
    }
   ],
   "source": [
    "mdape = np.median((np.abs(np.subtract(df_test['Total Confirmed'].to_list(), pred_final[0])/df_test['Total Confirmed'].to_list())))*100\n",
    "print('Test MDAPE: %f' % mdape)\n"
   ]
  },
  {
   "cell_type": "code",
   "execution_count": 47,
   "metadata": {},
   "outputs": [
    {
     "name": "stdout",
     "output_type": "stream",
     "text": [
      "SMAPE:  2.4679826127403293\n"
     ]
    }
   ],
   "source": [
    "smape = 100/len(df_test['Total Confirmed'].values) * np.sum(2 * np.abs(df_test['Total Confirmed'].values - pred_final[0]) / (np.abs(df_test['Total Confirmed'].values) + np.abs(pred_final[0])))\n",
    "print('SMAPE: ', smape)"
   ]
  },
  {
   "cell_type": "code",
   "execution_count": 48,
   "metadata": {},
   "outputs": [],
   "source": [
    "df = pd.read_csv('graph.csv')\n",
    "df['Proposed Model'] = pred_final[0]\n",
    "df.to_csv('graph.csv', index=False)"
   ]
  },
  {
   "cell_type": "code",
   "execution_count": 49,
   "metadata": {},
   "outputs": [
    {
     "data": {
      "text/plain": [
       "296"
      ]
     },
     "execution_count": 49,
     "metadata": {},
     "output_type": "execute_result"
    }
   ],
   "source": [
    "running_secs = (dt.now()-start).seconds\n",
    "running_secs"
   ]
  }
 ],
 "metadata": {
  "kernelspec": {
   "display_name": "Python 3",
   "language": "python",
   "name": "python3"
  },
  "language_info": {
   "codemirror_mode": {
    "name": "ipython",
    "version": 3
   },
   "file_extension": ".py",
   "mimetype": "text/x-python",
   "name": "python",
   "nbconvert_exporter": "python",
   "pygments_lexer": "ipython3",
   "version": "3.11.1"
  }
 },
 "nbformat": 4,
 "nbformat_minor": 2
}
